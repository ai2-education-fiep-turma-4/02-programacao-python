{
 "cells": [
  {
   "cell_type": "code",
   "execution_count": null,
   "metadata": {},
   "outputs": [],
   "source": [
    "# Para usarmos uma imagem esta é uma das formas, importando uma biblioteca.\n",
    "\n",
    "from IPython.display import Image\n",
    "Image(filename =\"ipython.png\", width=800, height=800)"
   ]
  },
  {
   "cell_type": "markdown",
   "metadata": {
    "slideshow": {
     "slide_type": "slide"
    }
   },
   "source": [
    "# Jupyter notebook\n",
    "### Tutorial para instalação e utilização"
   ]
  },
  {
   "cell_type": "markdown",
   "metadata": {
    "slideshow": {
     "slide_type": "slide"
    }
   },
   "source": [
    "## O que é Jupyter Notebook?\n",
    "\n",
    "Nesse caso, \"Notebook\" denotam documentos que contêm elementos de código e _rich text_, como figuras, links, equações, e etc. Devido à combinação de elementos de código e texto, esse tipo de documento é ideal para: \n",
    "* Reunir uma descrição da análise de resultados\n",
    "* realize a análise dos dados em tempo real\n",
    "* Criar apresentações dinâmicas\n",
    "* Criar documentações\n",
    "\n",
    "**\"Jupyter\"** é uma sigla solta que significa **Ju**lia, **Pyt**hon **e R**.\n",
    "\n",
    "A replicação e a reprodutibilidade são dois pilares do método científico. Os Jupyter notebooks facilitam a realização de ambos."
   ]
  },
  {
   "cell_type": "markdown",
   "metadata": {
    "slideshow": {
     "slide_type": "slide"
    }
   },
   "source": [
    "## Instalando o jupyter notebook\n",
    "\n",
    "Após ter instalado o Anaconda, de dentro de sua máquina ou do seu container, rode o seguinte comando:"
   ]
  },
  {
   "cell_type": "markdown",
   "metadata": {
    "slideshow": {
     "slide_type": "fragment"
    }
   },
   "source": [
    "```\n",
    "$ conda install jupyter notebook\n",
    "```"
   ]
  },
  {
   "cell_type": "markdown",
   "metadata": {
    "slideshow": {
     "slide_type": "fragment"
    }
   },
   "source": [
    "Para iniciar o `jupyter notebook`:\n",
    "\n",
    "```\n",
    "$ jupyter-notebook\n",
    "```\n",
    "\n",
    "Após isso, acesse `jupyter notebook` pelo navegador (pode ser necessário copiar e colar o token):\n",
    "http://localhost:8888"
   ]
  },
  {
   "cell_type": "markdown",
   "metadata": {
    "slideshow": {
     "slide_type": "slide"
    }
   },
   "source": [
    "## Criando um notebook\n",
    "\n",
    "Para criar um novo notebook, acesse o munu superior direito conforme a imagem:\n",
    "\n",
    "<center><img src=\"https://advancedinstitute.ai/wp-content/uploads/2019/10/new.png\" width=\"600\" height=\"360\"/></center>"
   ]
  },
  {
   "cell_type": "markdown",
   "metadata": {
    "slideshow": {
     "slide_type": "subslide"
    }
   },
   "source": [
    "## Extensão .ipynb\n",
    "\n",
    "Por definição, a extensão padrão do Jupyter notebook é `.ipynb`. Esse arquivo é um `JSON`. Cada célula e conteúdo é convertida em _string_ e listada nesse arquivo. "
   ]
  },
  {
   "cell_type": "markdown",
   "metadata": {
    "slideshow": {
     "slide_type": "slide"
    }
   },
   "source": [
    "## Interface\n",
    "\n",
    "Há dois termos bastante importantes: **células** e **kernels** são essenciais para entender o Jupyter e o que o torna mais do que apenas um processador de texto.\n",
    "\n",
    "Um *Kernel* é um \"mecanismo computacional\" que executa o código contido em um documento do notebook.\n",
    "Uma célula é um contêiner para o texto a ser exibido no bloco de notas ou o código a ser executado pelo kernel do bloco de notas.\n",
    "\n",
    " **Células** são blocos . Elas são blocos que podem ser executados individualmente"
   ]
  },
  {
   "cell_type": "markdown",
   "metadata": {
    "slideshow": {
     "slide_type": "subslide"
    }
   },
   "source": [
    "## Células\n",
    "\n",
    "Um notebook é estruturado em **Células**. Elas são blocos que podem ser executados individualmente, porém sequencialmente. Existem dois tipos principais de células:\n",
    "\n",
    "* Uma **célula de código** contém código a ser executado no kernel e exibe sua saída abaixo.\n",
    "* Uma **célula Markdown** contém texto formatado usando Markdown e exibe sua saída no local quando é executada."
   ]
  },
  {
   "cell_type": "code",
   "execution_count": null,
   "metadata": {
    "slideshow": {
     "slide_type": "fragment"
    }
   },
   "outputs": [],
   "source": [
    "# Você pode mesclar texto, código e ver as saidas em tempo real\n",
    "print('Hello World')"
   ]
  },
  {
   "cell_type": "markdown",
   "metadata": {
    "slideshow": {
     "slide_type": "subslide"
    }
   },
   "source": [
    "Por definição, ao criarmos uma nova célula (clicando no botão `+` no menu superior ou utlizando a tecla `B`) ela será do tipo código.\n",
    "Para alterarmos o tipo da célula, basta acessar o menu superior:\n",
    "\n",
    "<center><img src=\"https://advancedinstitute.ai/wp-content/uploads/2019/10/cells.png\" width=\"600\" height=\"360\"/></center>"
   ]
  },
  {
   "cell_type": "markdown",
   "metadata": {
    "slideshow": {
     "slide_type": "slide"
    }
   },
   "source": [
    "## Atalhos"
   ]
  },
  {
   "cell_type": "markdown",
   "metadata": {
    "slideshow": {
     "slide_type": "fragment"
    }
   },
   "source": [
    "Para acessar a lista de atalhos, utilize a sequência\n",
    "`CTRL + SHIFT + P`"
   ]
  },
  {
   "cell_type": "markdown",
   "metadata": {
    "slideshow": {
     "slide_type": "subslide"
    }
   },
   "source": [
    "## Rodando comandos shell de dentro do notebook"
   ]
  },
  {
   "cell_type": "markdown",
   "metadata": {
    "slideshow": {
     "slide_type": "fragment"
    }
   },
   "source": [
    "basta utilizar `!` antes do comando bash, conforme exemplo a seguir:"
   ]
  },
  {
   "cell_type": "code",
   "execution_count": null,
   "metadata": {
    "slideshow": {
     "slide_type": "fragment"
    }
   },
   "outputs": [],
   "source": [
    "!whoami"
   ]
  },
  {
   "cell_type": "markdown",
   "metadata": {
    "slideshow": {
     "slide_type": "slide"
    }
   },
   "source": [
    "## Usando o jupyter notebook para apresentações"
   ]
  },
  {
   "cell_type": "markdown",
   "metadata": {
    "slideshow": {
     "slide_type": "fragment"
    }
   },
   "source": [
    "Para visualizar como slides, é preciso ativar a opção de marcar o tipo visualização das células como `slideshow`\n",
    "<center><img src=\"https://advancedinstitute.ai/wp-content/uploads/2019/10/slideshow.png\" width=\"600\" height=\"360\"></center>"
   ]
  },
  {
   "cell_type": "markdown",
   "metadata": {
    "slideshow": {
     "slide_type": "subslide"
    }
   },
   "source": [
    "tipos de slides ( _Slide Type_ ):\n",
    "* **Slide**: Exibição da célula como um slide\n",
    "* **Sub-Slide**: Exibição da célula no mesmo slide, mas sobrepoe o conteúdo anterior\n",
    "* **Fragment**: Exibição da célula abaixo da anterior\n",
    "* **Skip**: A célula não será exibida\n",
    "* **Notes**: Notas para o apresentador (não será exibida)"
   ]
  },
  {
   "cell_type": "markdown",
   "metadata": {
    "slideshow": {
     "slide_type": "slide"
    }
   },
   "source": [
    "### RISE\n",
    "#### Ferramenta de apresentação online\n",
    "\n",
    "Instale a ferramenta RISE:"
   ]
  },
  {
   "cell_type": "code",
   "execution_count": null,
   "metadata": {
    "slideshow": {
     "slide_type": "fragment"
    }
   },
   "outputs": [],
   "source": [
    "!conda install -c conda-forge rise -y"
   ]
  },
  {
   "cell_type": "markdown",
   "metadata": {
    "slideshow": {
     "slide_type": "slide"
    }
   },
   "source": [
    "### Converter slide para `.pdf` (Relatório)\n",
    "\n",
    "Para converter a apresentação para `.pdf` é necessário instalar o `xelatex`:\n",
    "```\n",
    "# sudo apt-get install texlive-xetex\n",
    "```"
   ]
  },
  {
   "cell_type": "markdown",
   "metadata": {
    "slideshow": {
     "slide_type": "slide"
    }
   },
   "source": [
    "### Convertendo o seu notebook para apresentação `html` ( _offline_ ):"
   ]
  },
  {
   "cell_type": "markdown",
   "metadata": {
    "slideshow": {
     "slide_type": "-"
    }
   },
   "source": [
    "!jupyter nbconvert jupyter-tutorial.ipynb --to slides --reveal-prefix  \"https://cdnjs.cloudflare.com/ajax/libs/reveal.js/3.3.0\""
   ]
  },
  {
   "cell_type": "markdown",
   "metadata": {
    "slideshow": {
     "slide_type": "slide"
    }
   },
   "source": [
    "## Magic Commands"
   ]
  },
  {
   "cell_type": "code",
   "execution_count": null,
   "metadata": {
    "slideshow": {
     "slide_type": "fragment"
    }
   },
   "outputs": [],
   "source": [
    "%lsmagic"
   ]
  },
  {
   "cell_type": "markdown",
   "metadata": {
    "slideshow": {
     "slide_type": "slide"
    }
   },
   "source": [
    "## Magic Commands\n",
    "\n",
    "Definindo variável de ambiente com diretiva `%env`"
   ]
  },
  {
   "cell_type": "code",
   "execution_count": null,
   "metadata": {
    "slideshow": {
     "slide_type": "fragment"
    }
   },
   "outputs": [],
   "source": [
    "%env OMP_NUM_THREADS=4\n",
    "\n",
    "!echo $OMP_NUM_THREADS"
   ]
  },
  {
   "cell_type": "markdown",
   "metadata": {
    "slideshow": {
     "slide_type": "slide"
    }
   },
   "source": [
    "## Magic Commands\n",
    "\n",
    "Utilizando o `%load` para carregar arquivo externo"
   ]
  },
  {
   "cell_type": "code",
   "execution_count": null,
   "metadata": {
    "slideshow": {
     "slide_type": "fragment"
    }
   },
   "outputs": [],
   "source": [
    "# %load pythoncode.py\n",
    "import numpy\n",
    "def append_if_not_exists(arr, x):\n",
    "    if x not in arr:\n",
    "        arr.append(x)\n",
    "\n",
    "def some_useless_slow_function():\n",
    "    arr = list()\n",
    "    for i in range(10000):\n",
    "        x = numpy.random.randint(0, 10000)\n",
    "        append_if_not_exists(arr, x)"
   ]
  },
  {
   "cell_type": "markdown",
   "metadata": {
    "slideshow": {
     "slide_type": "slide"
    }
   },
   "source": [
    "## Magic Commands\n",
    "\n",
    "Usando o `%who` para listar variáveis globais:"
   ]
  },
  {
   "cell_type": "code",
   "execution_count": null,
   "metadata": {
    "slideshow": {
     "slide_type": "fragment"
    }
   },
   "outputs": [],
   "source": [
    "a, b, c = \"var1\", \"var2\", \"var3\"\n",
    "\n",
    "def function1():\n",
    "    a_prime = \"var1_prime\"\n",
    "    pass\n",
    "\n",
    "%who"
   ]
  },
  {
   "cell_type": "markdown",
   "metadata": {
    "slideshow": {
     "slide_type": "slide"
    }
   },
   "source": [
    "## Magic Commands\n",
    "\n",
    "Medindo o tempo com `%%time` e `%timeit`"
   ]
  },
  {
   "cell_type": "code",
   "execution_count": null,
   "metadata": {
    "slideshow": {
     "slide_type": "fragment"
    }
   },
   "outputs": [],
   "source": [
    "%%time\n",
    "import time\n",
    "for _ in range(1000):\n",
    "    time.sleep(0.01) # sleep for 0.01 seconds"
   ]
  },
  {
   "cell_type": "code",
   "execution_count": null,
   "metadata": {
    "slideshow": {
     "slide_type": "fragment"
    }
   },
   "outputs": [],
   "source": [
    "import numpy\n",
    "%timeit numpy.random.normal(size=100)"
   ]
  },
  {
   "cell_type": "markdown",
   "metadata": {
    "slideshow": {
     "slide_type": "slide"
    }
   },
   "source": [
    "## Magic Commands\n",
    "\n",
    "Utilizando o `%%writefile` para escrita e o `%pycat` para inspecionar o conteúdo de um arquivo externo."
   ]
  },
  {
   "cell_type": "code",
   "execution_count": null,
   "metadata": {
    "slideshow": {
     "slide_type": "fragment"
    }
   },
   "outputs": [],
   "source": [
    "%%writefile pythoncode.py\n",
    "import numpy\n",
    "def append_if_not_exists(arr, x):\n",
    "    if x not in arr:\n",
    "        arr.append(x)\n",
    "\n",
    "def some_useless_slow_function():\n",
    "    arr = list()\n",
    "    for i in range(10000):\n",
    "        x = numpy.random.randint(0, 10000)\n",
    "        append_if_not_exists(arr, x)\n"
   ]
  },
  {
   "cell_type": "code",
   "execution_count": null,
   "metadata": {
    "slideshow": {
     "slide_type": "fragment"
    }
   },
   "outputs": [],
   "source": [
    "%pycat pythoncode.py"
   ]
  },
  {
   "cell_type": "markdown",
   "metadata": {
    "slideshow": {
     "slide_type": "slide"
    }
   },
   "source": [
    "## Magic Commands\n",
    "\n",
    "Depurando utilizando o `%prun`"
   ]
  },
  {
   "cell_type": "code",
   "execution_count": null,
   "metadata": {
    "slideshow": {
     "slide_type": "fragment"
    }
   },
   "outputs": [],
   "source": [
    "%prun some_useless_slow_function()"
   ]
  }
 ],
 "metadata": {
  "celltoolbar": "Slideshow",
  "kernelspec": {
   "display_name": "Python 3",
   "language": "python",
   "name": "python3"
  },
  "language_info": {
   "codemirror_mode": {
    "name": "ipython",
    "version": 3
   },
   "file_extension": ".py",
   "mimetype": "text/x-python",
   "name": "python",
   "nbconvert_exporter": "python",
   "pygments_lexer": "ipython3",
   "version": "3.7.3"
  }
 },
 "nbformat": 4,
 "nbformat_minor": 2
}
